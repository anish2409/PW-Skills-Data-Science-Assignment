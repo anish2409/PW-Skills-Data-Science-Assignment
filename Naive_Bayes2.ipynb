{
 "cells": [
  {
   "cell_type": "markdown",
   "id": "fd2cb050-5bcb-4aaf-a60c-ca0bb7dba88e",
   "metadata": {},
   "source": [
    "Q1. Probability Calculation"
   ]
  },
  {
   "cell_type": "markdown",
   "id": "17809c13-d306-4d9a-935b-0016b54e2d8a",
   "metadata": {},
   "source": [
    "Given:\n",
    "    P(H) =0.70(Probability that an employee uses the health insurance plan)\n",
    "    P(S|H)=0.40(probability that an employee is a smoker given that they use the health insurance plan)\n",
    "\n",
    "We need to find P(S∣H). Since this is directly given, the answer is:\n",
    "    P(S|H)=0.40"
   ]
  },
  {
   "cell_type": "markdown",
   "id": "b67a29fc-e110-4674-b3ed-c1d95d54a2f7",
   "metadata": {},
   "source": [
    "Q2. Difference Between Bernoulli Naive Bayes and Multinomial Naive Bayes\n",
    "Bernoulli Naive Bayes:\n",
    "\n",
    "Assumes that all features are binary (0 or 1).\n",
    "Useful for binary/boolean features, where features indicate the presence or absence of something.\n",
    "Calculates the probability of observing a feature being 0 or 1 for each class.\n",
    "Multinomial Naive Bayes:\n",
    "\n",
    "Suitable for discrete features representing counts or frequencies (e.g., word counts in a document).\n",
    "Assumes features follow a multinomial distribution.\n",
    "Calculates the probability of observing a certain number of times each feature appears in a given class."
   ]
  },
  {
   "cell_type": "markdown",
   "id": "6ea467c4-74f1-4820-b36c-5901148c1a01",
   "metadata": {},
   "source": [
    "Q3. Handling Missing Values in Bernoulli Naive Bayes\n",
    "Bernoulli Naive Bayes does not have a built-in mechanism to handle missing values directly. Common strategies to handle missing values before applying the model include:\n",
    "\n",
    "Imputation: Filling missing values with the mode, mean, or median of the feature.\n",
    "Indicator Variable: Creating a new binary feature to indicate whether the original feature value was missing."
   ]
  },
  {
   "cell_type": "markdown",
   "id": "500b7d9a-5c30-463b-be6f-12879e08c3ee",
   "metadata": {},
   "source": [
    "Q4. Gaussian Naive Bayes for Multi-class Classification\n",
    "Yes, Gaussian Naive Bayes can be used for multi-class classification. The algorithm calculates the probability of each class for the given input and assigns the class with the highest probability to the instance. It can handle multiple classes by fitting a separate Gaussian distribution for each feature-class combination.\n",
    "\n"
   ]
  },
  {
   "cell_type": "code",
   "execution_count": null,
   "id": "35edd731-01c3-4743-af5e-7d1edc78ffc8",
   "metadata": {},
   "outputs": [],
   "source": []
  }
 ],
 "metadata": {
  "kernelspec": {
   "display_name": "Python 3 (ipykernel)",
   "language": "python",
   "name": "python3"
  },
  "language_info": {
   "codemirror_mode": {
    "name": "ipython",
    "version": 3
   },
   "file_extension": ".py",
   "mimetype": "text/x-python",
   "name": "python",
   "nbconvert_exporter": "python",
   "pygments_lexer": "ipython3",
   "version": "3.10.8"
  }
 },
 "nbformat": 4,
 "nbformat_minor": 5
}
