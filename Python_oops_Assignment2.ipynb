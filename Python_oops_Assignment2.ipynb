{
 "cells": [
  {
   "cell_type": "markdown",
   "id": "82cece86-5bca-4690-b0b5-dc0d5fff2902",
   "metadata": {},
   "source": [
    "Q1. What is Abstraction in OOps? Explain with an example."
   ]
  },
  {
   "cell_type": "markdown",
   "id": "a4288d2f-cecf-44d1-8721-79524372c70d",
   "metadata": {},
   "source": [
    "Objects are the building blocks of Object-Oriented Programming. An object contains some properties and methods. We can hide them from the outer world through access modifiers. We can provide access only for required functions and properties to the other programs. This is the general procedure to implement abstraction in OOPS."
   ]
  },
  {
   "cell_type": "markdown",
   "id": "7ca3119a-cf11-45e4-8f72-6cdd9275a76e",
   "metadata": {},
   "source": [
    "Real life Example:\n",
    "    My car is a great example of abstraction. I can start a car by turning the key or pressing the start button. I don’t need to know how the engine is getting started, what all components your car has. The car internal implementation and complex logic is completely hidden from the user."
   ]
  },
  {
   "cell_type": "code",
   "execution_count": 3,
   "id": "9f172e8e-5f0a-4b77-9d04-1c76a4887733",
   "metadata": {},
   "outputs": [
    {
     "name": "stdout",
     "output_type": "stream",
     "text": [
      "Area of Circle: 78.53981633974483\n"
     ]
    }
   ],
   "source": [
    "from abc import ABC, abstractmethod\n",
    "import math\n",
    "\n",
    "\n",
    "class Shape(ABC):\n",
    "    @abstractmethod\n",
    "    def area(self):\n",
    "        pass\n",
    "\n",
    "\n",
    "class Circle(Shape):\n",
    "    def __init__(self, radius):\n",
    "        self.radius = radius\n",
    "\n",
    "    def area(self):\n",
    "        return math.pi * self.radius ** 2\n",
    "\n",
    "\n",
    "circle = Circle(5)\n",
    "print(\"Area of Circle:\", circle.area()) \n"
   ]
  },
  {
   "cell_type": "markdown",
   "id": "619d4b8e-284e-4726-aeac-c142efa335a3",
   "metadata": {},
   "source": [
    "Q2. Differentiate between Abstraction and Encapsulation. Explain with an example."
   ]
  },
  {
   "cell_type": "markdown",
   "id": "25a2b668-b2d1-4a5d-b56d-093fd7f3e727",
   "metadata": {},
   "source": [
    " \n",
    " 1.Abstraction shows only useful data by providing the most necessary details, whereas Encapsulation wraps code and data for necessary information.\n",
    " 2.Abstraction is focused mainly on what should be done, while Encapsulation is focused on how it should be done.\n",
    " 3.Abstraction hides complexity by giving you a more abstract picture, while Encapsulation hides internal work so that you can change it later.\n",
    "     "
   ]
  },
  {
   "cell_type": "markdown",
   "id": "a7980ee3-375f-4b35-a9e6-f5a519578962",
   "metadata": {},
   "source": [
    "Example of Abstraction\n",
    "    Consider the concept of a \"Vehicle.\" When you think of a vehicle, you immediately have a general understanding of what it is and what it can do (e.g., move, transport people or goods). However, the term \"vehicle\" is an abstract concept itself. In programming, you might create an abstract class or interface named Vehicle that defines common attributes and methods for all types of vehicles, like startEngine(), stopEngine(), and move(). Each specific type of vehicle (car, motorcycle, truck) would then inherit from this abstract class or interface and provide its own implementation of the methods, adding the necessary details specific to that type."
   ]
  },
  {
   "cell_type": "markdown",
   "id": "6ea32c79-48c8-45c2-94c9-1a2b8a747d2e",
   "metadata": {},
   "source": [
    "Example of Encapsulation\n",
    "Let’s take an example of mobile device. With the help of mobile devices, you can perform various functions like taking a picture, sending a message, recording video/ audio, access the web and much more.\n",
    "\n",
    "The features mentioned above are functionalities of most of the smartphone. However, you don’t need to understand the internal functioning details of those features before using this program. Example, you don’t need to know how your camera calculates gamma correction or identifies a human face in an image. You just need to learn the software interface. This is encapsulation."
   ]
  },
  {
   "cell_type": "markdown",
   "id": "16d68e31-facc-4877-9169-5bed7420f81f",
   "metadata": {},
   "source": [
    "Q3. What is abc module in python? Why is it used?"
   ]
  },
  {
   "cell_type": "markdown",
   "id": "d44fa585-a605-4e95-894c-735763f0e388",
   "metadata": {},
   "source": [
    "The 'abc' module in Python library provides the infrastructure for defining custom abstract base classes.\n",
    "'abc' works by marking methods of the base class as abstract. This is done by @absttractmethod decorator.\n",
    "\n",
    "   The main goal of the abstract base class is to provide a standardized way to test whether an object adheres to a given specification. It can also prevent any attempt to instantiate a subclass that doesn’t override a particular method in the superclass. And finally, using an abstract class, a class can derive identity from another class without any object inheritance."
   ]
  },
  {
   "cell_type": "markdown",
   "id": "6a24eef4-0766-4c3b-b34c-f286fec679d6",
   "metadata": {},
   "source": [
    "Q4. How can we achieve data abstraction?"
   ]
  },
  {
   "cell_type": "markdown",
   "id": "6ed35f7f-b2d4-47a2-9276-86a944f9926d",
   "metadata": {},
   "source": [
    "In Python, data abstraction can be achieved using abstract base classes (ABCs) provided by the abc module. An abstract base class defines a common interface for its subclasses and ensures that certain methods are implemented in those subclasses. This helps create a level of abstraction by separating the interface (methods that must be implemented) from the actual implementation.\n",
    "\n"
   ]
  },
  {
   "cell_type": "markdown",
   "id": "783b9391-905b-404f-9b1c-23862564e271",
   "metadata": {},
   "source": [
    "Q5. Can we create an instance of an abstract class? Explain your answer."
   ]
  },
  {
   "cell_type": "markdown",
   "id": "30ad3fa0-fcfe-4409-a855-2925030df800",
   "metadata": {},
   "source": [
    "Abstract classes cannot be instantiated.\n",
    "    Abstract classes are meant to be incomplete and are designed to serve as blueprints for other classes. They contain one or more abstract methods that lack implementation details. As a result, trying to create an instance of an abstract class would be meaningless and not practical, since it would lack the necessary implementation for the abstract methods."
   ]
  },
  {
   "cell_type": "code",
   "execution_count": null,
   "id": "074a4213-5b0e-4038-84a8-a5436dc466b7",
   "metadata": {},
   "outputs": [],
   "source": []
  }
 ],
 "metadata": {
  "kernelspec": {
   "display_name": "Python 3 (ipykernel)",
   "language": "python",
   "name": "python3"
  },
  "language_info": {
   "codemirror_mode": {
    "name": "ipython",
    "version": 3
   },
   "file_extension": ".py",
   "mimetype": "text/x-python",
   "name": "python",
   "nbconvert_exporter": "python",
   "pygments_lexer": "ipython3",
   "version": "3.10.8"
  }
 },
 "nbformat": 4,
 "nbformat_minor": 5
}
