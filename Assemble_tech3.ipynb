{
 "cells": [
  {
   "cell_type": "markdown",
   "id": "2f94106c-41b8-4b42-b605-2c81e8a641c5",
   "metadata": {},
   "source": [
    "Q1. What is Random Forest Regressor?\n",
    "A Random Forest Regressor is an ensemble learning method used for regression tasks. It constructs multiple decision trees during training and outputs the mean prediction of the individual trees to improve predictive accuracy and control overfitting."
   ]
  },
  {
   "cell_type": "markdown",
   "id": "a48328eb-933a-4edc-b444-f272e301af5e",
   "metadata": {},
   "source": [
    "Q2. How does Random Forest Regressor reduce the risk of overfitting?\n",
    "Random Forest Regressor reduces the risk of overfitting by:\n",
    "\n",
    "Bootstrapping: It uses bootstrap sampling to create multiple subsets of the training data.\n",
    "Feature Randomness: Each tree in the forest is trained on a random subset of features.\n",
    "Aggregation: The final prediction is the average of predictions from all the individual trees, which reduces the variance and overfitting compared to a single decision tree."
   ]
  },
  {
   "cell_type": "markdown",
   "id": "6b51b938-ebe0-4902-be94-0d56a5b4a984",
   "metadata": {},
   "source": [
    "Q3. How does Random Forest Regressor aggregate the predictions of multiple decision trees?\n",
    "Random Forest Regressor aggregates the predictions by taking the average (mean) of the predictions from all the individual decision trees in the forest. For a new input, each tree provides a prediction, and the final output is the average of these predictions."
   ]
  },
  {
   "cell_type": "markdown",
   "id": "66b90d62-0edf-48e8-b45a-808a1505f91a",
   "metadata": {},
   "source": [
    "Q4. What are the hyperparameters of Random Forest Regressor?\n",
    "Key hyperparameters of Random Forest Regressor include:\n",
    "\n",
    "n_estimators: The number of trees in the forest.\n",
    "max_depth: The maximum depth of each tree.\n",
    "min_samples_split: The minimum number of samples required to split an internal node.\n",
    "min_samples_leaf: The minimum number of samples required to be at a leaf node.\n",
    "max_features: The number of features to consider when looking for the best split.\n",
    "bootstrap: Whether bootstrap samples are used when building trees.\n",
    "random_state: The seed used by the random number generator."
   ]
  },
  {
   "cell_type": "code",
   "execution_count": null,
   "id": "8c578c07-730c-461b-9a4e-d743d776a4e8",
   "metadata": {},
   "outputs": [],
   "source": [
    "Q5. What is the difference between Random Forest Regressor and Decision Tree Regressor?\n",
    "Model Structure:\n",
    "\n",
    "Decision Tree Regressor: A single tree structure used for making predictions.\n",
    "Random Forest Regressor: An ensemble of multiple decision trees, where each tree is trained on different parts of the data and features.\n",
    "Overfitting:\n",
    "\n",
    "Decision Tree Regressor: Prone to overfitting, especially with deep trees.\n",
    "Random Forest Regressor: Less prone to overfitting due to averaging multiple trees.\n",
    "Stability:\n",
    "\n",
    "Decision Tree Regressor: Sensitive to changes in the data.\n",
    "Random Forest Regressor: More stable and robust to data variability."
   ]
  }
 ],
 "metadata": {
  "kernelspec": {
   "display_name": "Python 3 (ipykernel)",
   "language": "python",
   "name": "python3"
  },
  "language_info": {
   "codemirror_mode": {
    "name": "ipython",
    "version": 3
   },
   "file_extension": ".py",
   "mimetype": "text/x-python",
   "name": "python",
   "nbconvert_exporter": "python",
   "pygments_lexer": "ipython3",
   "version": "3.10.8"
  }
 },
 "nbformat": 4,
 "nbformat_minor": 5
}
