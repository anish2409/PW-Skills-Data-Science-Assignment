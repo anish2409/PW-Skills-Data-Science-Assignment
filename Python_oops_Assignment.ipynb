{
 "cells": [
  {
   "cell_type": "markdown",
   "id": "cd3aee66-29b3-4be3-b88c-50d8816a6ed8",
   "metadata": {},
   "source": [
    "Q1. Create a vehicle class with an init method having instance variables as name_of_vehicle, max_speed\n",
    "and average_of_vehicle."
   ]
  },
  {
   "cell_type": "code",
   "execution_count": 2,
   "id": "f74aca9e-5a07-47ef-82a2-dd7fc2eb37b4",
   "metadata": {},
   "outputs": [
    {
     "name": "stdout",
     "output_type": "stream",
     "text": [
      "Name of the vehicle: Toyota Camry\n",
      "Max speed: 180 km/h\n",
      "Average fuel consumption: 30 km/l\n"
     ]
    }
   ],
   "source": [
    "class Vehicle:\n",
    "    def __init__(self, name_of_vehicle, max_speed, average_of_vehicle):\n",
    "        self.name_of_vehicle = name_of_vehicle\n",
    "        self.max_speed = max_speed\n",
    "        self.average_of_vehicle = average_of_vehicle\n",
    "\n",
    "\n",
    "car = Vehicle(\"Toyota Camry\", 180, 30)\n",
    "print(f\"Name of the vehicle: {car.name_of_vehicle}\")\n",
    "print(f\"Max speed: {car.max_speed} km/h\")\n",
    "print(f\"Average fuel consumption: {car.average_of_vehicle} km/l\")\n"
   ]
  },
  {
   "cell_type": "markdown",
   "id": "ae4c9d49-557a-4842-a458-0416ea81ef09",
   "metadata": {},
   "source": [
    "Q2. Create a child class car from the vehicle class created in Que 1, which will inherit the vehicle class.\n",
    "Create a method named seating_capacity which takes capacity as an argument and returns the name of\n",
    "the vehicle and its seating capacity."
   ]
  },
  {
   "cell_type": "code",
   "execution_count": 1,
   "id": "2b1a90fc-b06a-445e-a523-1feb58fc56e2",
   "metadata": {},
   "outputs": [
    {
     "name": "stdout",
     "output_type": "stream",
     "text": [
      "Sedan - Seating Capacity: 5\n",
      "SUV - Seating Capacity: 7\n"
     ]
    }
   ],
   "source": [
    "class Vehicle:\n",
    "    def __init__(self, name, fuel_type, max_speed):\n",
    "        self.name = name\n",
    "        self.fuel_type = fuel_type\n",
    "        self.max_speed = max_speed\n",
    "\n",
    "    def display_info(self):\n",
    "        return f\"Name: {self.name}\\nFuel Type: {self.fuel_type}\\nMax Speed: {self.max_speed} km/h\"\n",
    "\n",
    "class Car(Vehicle):\n",
    "    def __init__(self, name, fuel_type, max_speed):\n",
    "        super().__init__(name, fuel_type, max_speed)\n",
    "    \n",
    "    def seating_capacity(self, capacity):\n",
    "        return f\"{self.name} - Seating Capacity: {capacity}\"\n",
    "\n",
    "car1 = Car(\"Sedan\", \"Gasoline\", 180)\n",
    "car2 = Car(\"SUV\", \"Diesel\", 200)\n",
    "\n",
    "print(car1.seating_capacity(5))\n",
    "print(car2.seating_capacity(7))\n"
   ]
  },
  {
   "cell_type": "markdown",
   "id": "31cefa59-d8ab-4719-8923-3e77485b1208",
   "metadata": {},
   "source": [
    "Q3. What is multiple inheritance? Write a python code to demonstrate multiple inheritance."
   ]
  },
  {
   "cell_type": "markdown",
   "id": "9f733612-72fa-4764-afb7-796b7370ac4d",
   "metadata": {},
   "source": [
    "When a class is derived from more than one base class it is called multiple Inheritance. The derived class inherits all the features of the base case.\n",
    "\n",
    "    "
   ]
  },
  {
   "cell_type": "code",
   "execution_count": 2,
   "id": "77f51fe8-bf81-44de-9619-dfa0868d1b09",
   "metadata": {},
   "outputs": [
    {
     "name": "stdout",
     "output_type": "stream",
     "text": [
      "Mammals can give direct birth.\n",
      "Winged animals can flap.\n"
     ]
    }
   ],
   "source": [
    "class Mammal:\n",
    "    def mammal_info(self):\n",
    "        print(\"Mammals can give direct birth.\")\n",
    "\n",
    "class WingedAnimal:\n",
    "    def winged_animal_info(self):\n",
    "        print(\"Winged animals can flap.\")\n",
    "\n",
    "class Bat(Mammal, WingedAnimal):\n",
    "    pass\n",
    "\n",
    "b1 = Bat()\n",
    "\n",
    "b1.mammal_info()\n",
    "b1.winged_animal_info()"
   ]
  },
  {
   "cell_type": "markdown",
   "id": "05cff691-94a3-4418-a207-ab15418f0c89",
   "metadata": {},
   "source": [
    "Q4. What are getter and setter in python? Create a class and create a getter and a setter method in this\n",
    "class."
   ]
  },
  {
   "cell_type": "markdown",
   "id": "c0455edb-63c8-4c60-8447-57644391222c",
   "metadata": {},
   "source": [
    "A class can have one more variables (sometimes called properties). When you create objects each of those objects have unique values for those variables.\n",
    "\n",
    "Class variables need not be set directly: they can be set using class methods. This is the object orientated way and helps you avoid mistakes."
   ]
  },
  {
   "cell_type": "code",
   "execution_count": 7,
   "id": "7a06195b-a462-49f7-8e11-5c2543f2db83",
   "metadata": {},
   "outputs": [
    {
     "name": "stdout",
     "output_type": "stream",
     "text": [
      "0\n",
      "2022\n"
     ]
    }
   ],
   "source": [
    "class year_graduated:\n",
    "    def __init__(self, year=0):\n",
    "        self._year = year\n",
    "    def get_year(self):\n",
    "        return self._year\n",
    "\n",
    "    def set_year(self, a):\n",
    "        self._year = a\n",
    "\n",
    "grad_obj = year_graduated()\n",
    "print(grad_obj.get_year())\n",
    "grad_obj.set_year(2022)\n",
    "print(grad_obj._year)"
   ]
  },
  {
   "cell_type": "markdown",
   "id": "f7ff2599-c5f8-4ceb-935d-c527d0e0184c",
   "metadata": {},
   "source": [
    "Q5.What is method overriding in python? Write a python code to demonstrate method overriding."
   ]
  },
  {
   "cell_type": "markdown",
   "id": "86fa8d41-07c3-49e2-b247-f47f5adc25b2",
   "metadata": {},
   "source": [
    "Method overriding in Python is when you have two methods with the same name that each perform different tasks. This is an important feature of inheritance in Python. In method overriding, the child class can change its functions that are defined by its ancestral classes."
   ]
  },
  {
   "cell_type": "code",
   "execution_count": null,
   "id": "20bbdf05-a4f4-41fe-8515-f4d225ba20e2",
   "metadata": {},
   "outputs": [],
   "source": []
  }
 ],
 "metadata": {
  "kernelspec": {
   "display_name": "Python 3 (ipykernel)",
   "language": "python",
   "name": "python3"
  },
  "language_info": {
   "codemirror_mode": {
    "name": "ipython",
    "version": 3
   },
   "file_extension": ".py",
   "mimetype": "text/x-python",
   "name": "python",
   "nbconvert_exporter": "python",
   "pygments_lexer": "ipython3",
   "version": "3.10.8"
  }
 },
 "nbformat": 4,
 "nbformat_minor": 5
}
