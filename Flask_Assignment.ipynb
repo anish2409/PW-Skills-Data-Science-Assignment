{
 "cells": [
  {
   "cell_type": "markdown",
   "id": "39f4e2fb-983e-4feb-9548-bf85df278748",
   "metadata": {},
   "source": [
    "Q1. What is Flask Framework? What are the advantages of Flask Framework?\n"
   ]
  },
  {
   "cell_type": "markdown",
   "id": "ea5d1154-c33d-4815-b566-4499c754890c",
   "metadata": {},
   "source": [
    "Flask is a micro web framework for Python that allows you to build web applications quickly and easily. It is lightweight and flexible, and it comes with a minimal set of tools and libraries, which allows developers to have greater control over their applications.\n",
    "\n",
    "Some advantages of Flask are:\n",
    "\n",
    "Simplicity: Flask has a simple and intuitive API, which makes it easy to learn and use, even for beginners.\n",
    "\n",
    "Flexibility: Flask is a lightweight framework, which means that it doesn't impose any specific coding patterns or project structures. This allows developers to build applications according to their specific needs and preferences.\n",
    "\n",
    "Extensibility: Flask has a modular design, which means that developers can add or remove features as needed, using a variety of third-party extensions.\n",
    "\n",
    "Scalability: Flask is designed to scale well, allowing developers to easily add more functionality as their applications grow.\n",
    "\n",
    "Testing: Flask makes it easy to write and run tests for your application, which is essential for ensuring its quality and reliability.\n",
    "\n",
    "Compatibility: Flask works with a wide range of Python versions and web servers, which makes it a versatile and reliable choice for web development.\n",
    "\n",
    "Overall, Flask is a great choice for building small to medium-sized web applications, due to its simplicity, flexibility, and extensibility."
   ]
  },
  {
   "cell_type": "markdown",
   "id": "c23bcac1-6d88-484a-93c5-42fcf92b7784",
   "metadata": {},
   "source": [
    "2. Create a simple Flask application to display ‘Hello World!!’. Attach the screenshot of the output in Jupyter Notebook."
   ]
  },
  {
   "cell_type": "code",
   "execution_count": 1,
   "id": "7c8f84e0-e67b-475d-819d-c6b1e5345a2f",
   "metadata": {},
   "outputs": [
    {
     "name": "stdout",
     "output_type": "stream",
     "text": [
      "Collecting flask\n",
      "  Downloading flask-3.0.0-py3-none-any.whl (99 kB)\n",
      "\u001b[2K     \u001b[90m━━━━━━━━━━━━━━━━━━━━━━━━━━━━━━━━━━━━━━━━\u001b[0m \u001b[32m99.7/99.7 kB\u001b[0m \u001b[31m12.3 MB/s\u001b[0m eta \u001b[36m0:00:00\u001b[0m\n",
      "\u001b[?25hCollecting blinker>=1.6.2\n",
      "  Downloading blinker-1.6.3-py3-none-any.whl (13 kB)\n",
      "Collecting Werkzeug>=3.0.0\n",
      "  Downloading werkzeug-3.0.1-py3-none-any.whl (226 kB)\n",
      "\u001b[2K     \u001b[90m━━━━━━━━━━━━━━━━━━━━━━━━━━━━━━━━━━━━━━\u001b[0m \u001b[32m226.7/226.7 kB\u001b[0m \u001b[31m27.4 MB/s\u001b[0m eta \u001b[36m0:00:00\u001b[0m\n",
      "\u001b[?25hRequirement already satisfied: click>=8.1.3 in /opt/conda/lib/python3.10/site-packages (from flask) (8.1.3)\n",
      "Requirement already satisfied: Jinja2>=3.1.2 in /opt/conda/lib/python3.10/site-packages (from flask) (3.1.2)\n",
      "Collecting itsdangerous>=2.1.2\n",
      "  Downloading itsdangerous-2.1.2-py3-none-any.whl (15 kB)\n",
      "Requirement already satisfied: MarkupSafe>=2.0 in /opt/conda/lib/python3.10/site-packages (from Jinja2>=3.1.2->flask) (2.1.1)\n",
      "Installing collected packages: Werkzeug, itsdangerous, blinker, flask\n",
      "  Attempting uninstall: blinker\n",
      "    Found existing installation: blinker 1.5\n",
      "    Uninstalling blinker-1.5:\n",
      "      Successfully uninstalled blinker-1.5\n",
      "Successfully installed Werkzeug-3.0.1 blinker-1.6.3 flask-3.0.0 itsdangerous-2.1.2\n",
      "Note: you may need to restart the kernel to use updated packages.\n"
     ]
    }
   ],
   "source": [
    "%pip install flask"
   ]
  },
  {
   "cell_type": "code",
   "execution_count": null,
   "id": "290a91d1-fd57-4a68-9430-de92bc4a98b2",
   "metadata": {},
   "outputs": [
    {
     "name": "stdout",
     "output_type": "stream",
     "text": [
      " * Serving Flask app '__main__'\n",
      " * Debug mode: off\n"
     ]
    },
    {
     "name": "stderr",
     "output_type": "stream",
     "text": [
      "WARNING: This is a development server. Do not use it in a production deployment. Use a production WSGI server instead.\n",
      " * Running on all addresses (0.0.0.0)\n",
      " * Running on http://127.0.0.1:5000\n",
      " * Running on http://172.18.0.11:5000\n",
      "Press CTRL+C to quit\n"
     ]
    }
   ],
   "source": [
    "from flask import Flask\n",
    "\n",
    "app=Flask(__name__)\n",
    "\n",
    "\n",
    "@app.route(\"/\")\n",
    "def function():\n",
    "    return \"Hello World!!\"\n",
    "\n",
    "if __name__==\"__main__\":\n",
    "    app.run(host=\"0.0.0.0\")"
   ]
  },
  {
   "cell_type": "markdown",
   "id": "bc7c29e9-ca49-49cd-ba6f-7d8ff8d9084a",
   "metadata": {},
   "source": [
    "# Q3. What is App routing in Flask? Why do we use app routes?\n",
    "\n",
    "\n",
    "In Flask, app routing refers to the process of mapping URLs (Uniform Resource Locators) to specific functions or views within your web application. It allows you to define different URL patterns and associate them with the corresponding Python functions that handle the requests.\n",
    "\n",
    "Here's how app routing works in Flask:\n",
    "\n",
    "1. Define Routes: In your Flask application, you can define routes using the `@app.route()` decorator. This decorator specifies the URL pattern that should trigger the associated function. For example:\n",
    "\n",
    "\n",
    "@app.route('/')\n",
    "def index():\n",
    "    return 'Hello, world!'\n",
    "\n",
    "\n",
    "In this example, the `'/'` URL pattern corresponds to the `index()` function, which will be executed when a user visits the root URL of your application.\n",
    "\n",
    "2. Handle Requests: When a user visits a specific URL within your Flask application, Flask's underlying web server receives the request and matches it to the appropriate route based on the URL pattern. It then calls the associated function to handle the request.\n",
    "\n",
    "3. Generate Responses: The function associated with a route performs any necessary logic, such as retrieving data from a database or processing form inputs. It then returns a response, which can be an HTML page, JSON data, or any other content that you want to send back to the user.\n",
    "\n",
    "App routes are used in Flask for several reasons:\n",
    "\n",
    "1. URL Mapping: App routes allow you to define the structure and organization of your web application's URLs. You can specify different routes for different pages or functionalities within your application. This helps in creating clean and logical URL structures.\n",
    "\n",
    "2. Request Handling: App routes define the functions that handle incoming requests for specific URLs. They provide a way to separate different parts of your application's functionality into individual views or endpoints. This allows for better organization and maintainability of your code.\n",
    "\n",
    "3. RESTful APIs: If you're building a web API with Flask, app routes play a crucial role in defining the API endpoints and mapping them to the appropriate functions that handle the requests. This enables clients to interact with your API by sending requests to specific URLs.\n",
    "\n",
    "4. Dynamic Behavior: App routes can include variables in the URL patterns, allowing you to create dynamic routes that can capture different values. This is useful when building applications that involve parameters or variable inputs, such as user profiles or product pages.\n",
    "\n",
    "5. URL Generation: Flask provides a feature called \"URL generation\" that allows you to generate URLs dynamically based on route names and arguments. This makes it easier to maintain links within your application, as changes to the URL patterns are automatically reflected throughout your codebase.\n",
    "\n",
    "Overall, app routes in Flask provide a way to map URLs to functions, enabling you to define the behavior of your web application or API. They help in organizing your code, handling requests, and creating dynamic and RESTful endpoints."
   ]
  },
  {
   "cell_type": "code",
   "execution_count": null,
   "id": "2d66f241-15f4-441e-b459-83c65a37424d",
   "metadata": {},
   "outputs": [],
   "source": [
    "# Q4. Create a “/welcome” route to display the welcome message “Welcome to ABC Corporation” and a “/”\n",
    "# route to show the following details:\n",
    "# Company Name: ABC Corporation\n",
    "# Location: India\n",
    "# Contact Detail: 999-999-9999\n",
    "\n",
    "#  from flask import Flask\n",
    "\n",
    "# app = Flask(__name__)\n",
    "\n",
    "# @app.route('/welcome')\n",
    "# def welcome():\n",
    "#     return 'Welcome to ABC Corporation'\n",
    "\n",
    "# @app.route('/')\n",
    "# def company_details():\n",
    "#     return '''Company Name: ABC Corporation<br>\n",
    "#               Location: India<br>\n",
    "#               Contact Detail: 999-999-9999'''\n",
    "\n",
    "# if __name__ == '__main__':\n",
    "#     app.run()\n",
    "\n",
    "\n",
    "\n",
    "![Screenshot 2023-06-22 153819.png](attachment:5c303795-5793-4701-bf5f-4f49a864eaea.png)\n",
    "\n"
   ]
  },
  {
   "cell_type": "markdown",
   "id": "2b4149e3-0328-4d87-bf75-7f07669b728c",
   "metadata": {},
   "source": [
    "# Q5. What function is used in Flask for URL Building? Write a Python code to demonstrate the working of the\n",
    "# url_for() function.\n",
    "\n",
    "\n",
    "In Flask, the `url_for()` function is used for URL building. It generates a URL for a given endpoint (view function) by taking into account the route defined for that endpoint.\n",
    "\n",
    "The `url_for()` function takes the endpoint name as the first argument and optionally accepts keyword arguments corresponding to variable parts of the URL. It returns the URL as a string.\n",
    "\n",
    "Here's an example Python code that demonstrates the working of the `url_for()` function:\n",
    "\n",
    "\n",
    "from flask import Flask, url_for\n",
    "\n",
    "app = Flask(__name__)\n",
    "\n",
    "@app.route('/')\n",
    "def index():\n",
    "    # Generate URL for the 'welcome' endpoint\n",
    "    welcome_url = url_for('welcome')\n",
    "    \n",
    "    # Generate URL for the 'company_details' endpoint\n",
    "    company_details_url = url_for('company_details')\n",
    "    \n",
    "    return f'''\n",
    "        <h1>URLs:</h1>\n",
    "        <ul>\n",
    "            <li><a href=\"{welcome_url}\">Welcome</a></li>\n",
    "            <li><a href=\"{company_details_url}\">Company Details</a></li>\n",
    "        </ul>\n",
    "    '''\n",
    "\n",
    "@app.route('/welcome')\n",
    "def welcome():\n",
    "    return 'Welcome to ABC Corporation'\n",
    "\n",
    "@app.route('/company')\n",
    "def company_details():\n",
    "    return '''Company Name: ABC Corporation<br>\n",
    "              Location: India<br>\n",
    "              Contact Detail: 999-999-9999'''\n",
    "\n",
    "if __name__ == '__main__':\n",
    "    app.run()\n",
    "\n",
    "\n",
    "In this example, we define three routes: `'/'`, `'/welcome'`, and `'/company'`. The `'/'` route generates URLs for the `'welcome'` and `'company_details'` endpoints using the `url_for()` function. These generated URLs are then used to create links on the home page (`'/'`) that lead to the respective endpoints.\n",
    "\n",
    "When you run the Flask application and visit `http://localhost:5000/`, you will see a list of URLs with links to the `'welcome'` and `'company_details'` pages. Clicking on these links will take you to the corresponding endpoints.\n",
    "\n",
    "The `url_for()` function is particularly useful when you have complex URL patterns or when you want to ensure that your application remains flexible even if the URLs change in the future. It allows you to generate URLs dynamically based on the endpoint names rather than hard-coding them in your templates or code."
   ]
  }
 ],
 "metadata": {
  "kernelspec": {
   "display_name": "Python 3 (ipykernel)",
   "language": "python",
   "name": "python3"
  },
  "language_info": {
   "codemirror_mode": {
    "name": "ipython",
    "version": 3
   },
   "file_extension": ".py",
   "mimetype": "text/x-python",
   "name": "python",
   "nbconvert_exporter": "python",
   "pygments_lexer": "ipython3",
   "version": "3.10.8"
  }
 },
 "nbformat": 4,
 "nbformat_minor": 5
}
