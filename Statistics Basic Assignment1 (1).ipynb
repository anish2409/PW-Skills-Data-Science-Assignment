{
 "cells": [
  {
   "cell_type": "markdown",
   "id": "8da796ba-7fd8-49a7-95cc-b2621f1a3d73",
   "metadata": {},
   "source": [
    "Q1. What is Statistics?"
   ]
  },
  {
   "cell_type": "markdown",
   "id": "de51690d-2151-47e7-adaf-76cdd70bbb4f",
   "metadata": {},
   "source": [
    "Statistics is a branch of mathematics and a field of study that involves collecting, organizing, analyzing, interpreting, presenting, and summarizing data. It plays a crucial role in understanding and making sense of complex information in various fields, including science, social sciences, business, economics, and more. Statistics provides the tools and techniques to turn data into valuable insights, allowing us to draw conclusions, make informed decisions, and support or reject hypotheses."
   ]
  },
  {
   "cell_type": "markdown",
   "id": "3079562f-4b66-433c-b1bc-1eb12273f0f5",
   "metadata": {},
   "source": [
    "Q2. Define the different types of statistics and give an example of when each type might be used."
   ]
  },
  {
   "cell_type": "markdown",
   "id": "1539924d-1c2b-4714-9d95-bf921960781a",
   "metadata": {},
   "source": [
    "Statistics can be broadly categorized into two main types: descriptive statistics and inferential statistics. Here's an explanation of each type and examples of when they might be used:\n",
    "\n",
    "1. **Descriptive Statistics:**\n",
    "   - *Definition:* Descriptive statistics involves the use of methods and techniques to summarize and describe data. It provides a clear and concise representation of data, enabling researchers or analysts to understand its basic features, patterns, and characteristics without making inferences about a larger population.\n",
    "   - *Examples:* \n",
    "     - **Measures of Central Tendency:** Descriptive statistics often includes the calculation of measures like the mean (average), median (middle value), and mode (most frequent value) to summarize data. For example, calculating the average income of a group of people.\n",
    "     - **Measures of Dispersion:** Descriptive statistics can also include measures of variability, such as the range, variance, and standard deviation, to understand how data points spread out. For instance, determining the spread of test scores in a classroom.\n",
    "     - **Data Visualization:** Creating graphical representations like histograms, bar charts, and scatter plots to visually display data distributions. For example, a bar chart showing the distribution of product sales by region.\n",
    "     - **Frequency Distributions:** Constructing frequency tables and histograms to show how data is distributed across different categories or ranges. This can be useful in tracking customer feedback ratings for a product.\n",
    "\n",
    "2. **Inferential Statistics:**\n",
    "   - *Definition:* Inferential statistics involves making inferences or predictions about a population based on a sample of data. It allows researchers to draw conclusions, test hypotheses, and assess the significance of relationships in the data.\n",
    "   - *Examples:*\n",
    "     - **Hypothesis Testing:** Inferential statistics is used to test hypotheses about population parameters. For instance, testing whether a new drug is effective by comparing the outcomes of patients who received the drug to those who received a placebo.\n",
    "     - **Confidence Intervals:** Calculating confidence intervals to estimate a range within which the population parameter is likely to fall. For example, estimating the mean salary of a profession with a 95% confidence interval.\n",
    "     - **Regression Analysis:** Inferential statistics includes regression analysis, which examines the relationships between variables. For instance, determining how changes in advertising spending impact product sales.\n",
    "     - **Analysis of Variance (ANOVA):** Used to compare means among different groups or treatments to determine if there are statistically significant differences. For example, assessing whether there's a significant difference in test scores among students in different schools.\n",
    "\n",
    "These two types of statistics are fundamental in the field of statistics and data analysis. Descriptive statistics help to understand and summarize data, while inferential statistics go a step further to make predictions and test hypotheses. The choice between these types depends on the goals of the analysis and the nature of the data being examined."
   ]
  },
  {
   "cell_type": "markdown",
   "id": "8d7d9980-1efe-4064-9a8d-69747b04bd8e",
   "metadata": {},
   "source": [
    "Q3. What are the different types of data and how do they differ from each other? Provide an example of\n",
    "each type of data."
   ]
  },
  {
   "cell_type": "markdown",
   "id": "9a764e77-9147-444b-9020-41dd9ad381ac",
   "metadata": {},
   "source": [
    "Data can be classified into different types based on the nature and characteristics of the information being collected. The four primary types of data are:\n",
    "\n",
    "1. **Nominal Data:**\n",
    "   - *Definition:* Nominal data, also known as categorical data, consists of categories or labels that represent different groups or classes. The categories have no inherent order or ranking.\n",
    "   - *Example:* Examples of nominal data include:\n",
    "     - Colors (e.g., red, blue, green).\n",
    "     - Types of animals (e.g., cat, dog, bird).\n",
    "     - Marital status (e.g., married, single, divorced).\n",
    "   - In nominal data, you can determine if categories are different from each other but cannot make any meaningful comparisons in terms of magnitude or order.\n",
    "\n",
    "2. **Ordinal Data:**\n",
    "   - *Definition:* Ordinal data also represents categories, but in this case, the categories have a meaningful order or rank. However, the intervals between categories may not be uniform or precisely defined.\n",
    "   - *Example:* Examples of ordinal data include:\n",
    "     - Educational levels (e.g., high school, bachelor's degree, master's degree).\n",
    "     - Survey responses with Likert scales (e.g., strongly agree, agree, neutral, disagree, strongly disagree).\n",
    "     - Socioeconomic status (e.g., low income, middle income, high income).\n",
    "   - Ordinal data allows for rank order but does not imply the exact differences between categories.\n",
    "\n",
    "3. **Interval Data:**\n",
    "   - *Definition:* Interval data is numeric data that has a consistent measurement scale with meaningful intervals between values. It lacks a true, non-arbitrary zero point.\n",
    "   - *Example:* Examples of interval data include:\n",
    "     - Temperature in Celsius or Fahrenheit.\n",
    "     - IQ scores.\n",
    "     - Year numbers (e.g., 2022, 2023, 2024).\n",
    "   - Interval data allows for meaningful comparisons between values and the calculation of differences, but it does not have a true \"zero\" that represents the absence of the measured attribute.\n",
    "\n",
    "4. **Ratio Data:**\n",
    "   - *Definition:* Ratio data is also numeric data with a consistent measurement scale, meaningful intervals between values, and a true, non-arbitrary zero point. This means that ratios and meaningful calculations can be made.\n",
    "   - *Example:* Examples of ratio data include:\n",
    "     - Height in centimeters or inches.\n",
    "     - Weight in kilograms or pounds.\n",
    "     - Age in years.\n",
    "   - Ratio data allows for meaningful comparisons, calculations of ratios, and absolute differences. A value of zero represents the complete absence of the measured attribute.\n",
    "\n",
    "The key difference between these data types lies in their measurement properties and the operations that can be performed on them. Nominal and ordinal data are categorical and can be summarized using frequencies and percentages. Interval and ratio data are numeric and allow for more advanced statistical analyses, including arithmetic operations and the calculation of means and standard deviations. It's important to correctly identify the type of data being collected when conducting statistical analyses or drawing conclusions from data."
   ]
  },
  {
   "cell_type": "markdown",
   "id": "c8e217cc-b08e-458a-b42a-588738693bed",
   "metadata": {},
   "source": [
    "Q4. Categorise the following datasets with respect to quantitative and qualitative data types:\n",
    "(i) Grading in exam: A+, A, B+, B, C+, C, D, E\n",
    "(ii) Colour of mangoes: yellow, green, orange, red\n",
    "(iii) Height data of a class: [178.9, 179, 179.5, 176, 177.2, 178.3, 175.8,...]\n",
    "(iv) Number of mangoes exported by a farm: [500, 600, 478, 672, ...]"
   ]
  },
  {
   "cell_type": "markdown",
   "id": "93c90f6e-2a88-4660-8e9f-f493deb68907",
   "metadata": {},
   "source": [
    "Let's categorize the datasets with respect to quantitative and qualitative data types:\n",
    "\n",
    "(i) **Grading in exam: A+, A, B+, B, C+, C, D, E**\n",
    "   - Data Type: Qualitative (Ordinal)\n",
    "   - Explanation: The grading system consists of categories or labels with a meaningful order, but the intervals between grades are not uniform.\n",
    "\n",
    "(ii) **Colour of mangoes: yellow, green, orange, red**\n",
    "   - Data Type: Qualitative (Nominal)\n",
    "   - Explanation: The color of mangoes is a categorical variable with no inherent order or ranking. The categories are labels representing different groups.\n",
    "\n",
    "(iii) **Height data of a class: [178.9, 179, 179.5, 176, 177.2, 178.3, 175.8,...]**\n",
    "   - Data Type: Quantitative (Ratio)\n",
    "   - Explanation: Height data is numeric and measured on a consistent scale with meaningful intervals between values. It has a true zero point (absence of height), allowing for meaningful calculations.\n",
    "\n",
    "(iv) **Number of mangoes exported by a farm: [500, 600, 478, 672, ...]**\n",
    "   - Data Type: Quantitative (Ratio)\n",
    "   - Explanation: The number of mangoes exported is a numeric variable that is measured on a consistent scale with meaningful intervals. It also has a true zero point (no mangoes), allowing for meaningful calculations and ratios.\n",
    "\n",
    "In summary, the grading system and mango color are qualitative data, with the grading system being ordinal and mango color being nominal. The height data and the number of mangoes exported are quantitative data, with both being ratio data types."
   ]
  },
  {
   "cell_type": "markdown",
   "id": "01db5044-77e7-453f-8c87-7a1a68c51d02",
   "metadata": {},
   "source": [
    "Q5. Explain the concept of levels of measurement and give an example of a variable for each level."
   ]
  },
  {
   "cell_type": "markdown",
   "id": "1cd84b9d-6c84-4dba-b72e-ae3aadd98461",
   "metadata": {},
   "source": [
    "The concept of levels of measurement, also known as scales of measurement, refers to the different ways in which data can be categorized or classified based on the characteristics and properties of the data. There are four primary levels of measurement, each with its own set of properties and rules:\n",
    "\n",
    "1. **Nominal Level:**\n",
    "   - This is the simplest level of measurement.\n",
    "   - Data at this level are categorical and represent distinct categories or labels.\n",
    "   - Categories have no inherent order or ranking.\n",
    "   - Operations like counting and mode (most frequent category) can be performed.\n",
    "   - Examples: Gender (male, female), Types of animals (cat, dog, bird), Car makes (Toyota, Honda).\n",
    "\n",
    "2. **Ordinal Level:**\n",
    "   - Data at this level are categorical but have a meaningful order or ranking.\n",
    "   - Differences between categories may not be uniform or precisely defined.\n",
    "   - Operations like ordering, ranking, and determining mode can be performed.\n",
    "   - Examples: Educational levels (high school, bachelor's degree, master's degree), Socioeconomic status (low income, middle income, high income), Survey responses (strongly agree, agree, neutral, disagree, strongly disagree).\n",
    "\n",
    "3. **Interval Level:**\n",
    "   - Data at this level are numeric and have a consistent measurement scale.\n",
    "   - Intervals between values are meaningful and uniform, but there is no true zero point.\n",
    "   - Operations like addition, subtraction, calculating means, and standard deviations can be performed.\n",
    "   - Examples: Temperature in Celsius or Fahrenheit, IQ scores, Year numbers (e.g., 2022, 2023, 2024).\n",
    "\n",
    "4. **Ratio Level:**\n",
    "   - Data at this level are numeric and have a consistent measurement scale.\n",
    "   - Intervals between values are meaningful and uniform, and there is a true zero point that represents the absence of the measured attribute.\n",
    "   - All arithmetic operations, including multiplication and division, can be performed.\n",
    "   - Examples: Height in centimeters or inches, Weight in kilograms or pounds, Age in years, Income in dollars.\n",
    "\n",
    "The choice of the level of measurement depends on the nature of the data being collected and the type of analysis or operations to be performed on the data. It's important to correctly identify the level of measurement, as this determines the types of statistical analyses and operations that can be applied to the data. Higher levels of measurement provide more information and allow for more advanced statistical techniques."
   ]
  },
  {
   "cell_type": "markdown",
   "id": "3adb3522-43d3-4fbe-9265-8b7ec50ddd05",
   "metadata": {},
   "source": [
    "Q6. Why is it important to understand the level of measurement when analyzing data? Provide an\n",
    "example to illustrate your answer."
   ]
  },
  {
   "cell_type": "markdown",
   "id": "9e89ab56-2d8d-41b5-b5ca-611b65c1e59c",
   "metadata": {},
   "source": [
    "Understanding the level of measurement is crucial when analyzing data because it determines the types of statistical analyses and operations that can be applied to the data. Using inappropriate statistical methods or treating data at a higher level of measurement than it actually is can lead to incorrect or meaningless results. Here are some reasons why understanding the level of measurement is important:\n",
    "\n",
    "1. **Appropriate Statistical Analysis:** Different levels of measurement require different statistical techniques. Using the wrong statistical method can lead to incorrect conclusions. For example, using the mean (average) for ordinal or nominal data, where values have no inherent numerical meaning, doesn't make sense.\n",
    "\n",
    "2. **Operations Permitted:** The level of measurement determines which mathematical operations are meaningful. You can add, subtract, multiply, or divide interval and ratio data, but not for nominal and ordinal data. Using inappropriate operations can result in erroneous results. For instance, calculating the average income (ratio data) makes sense, but calculating the average gender (nominal data) does not.\n",
    "\n",
    "3. **Presentation and Interpretation:** Knowing the level of measurement helps in presenting and interpreting data appropriately. For example, presenting nominal data as a bar chart or pie chart is common, while presenting ratio data as a histogram or a scatterplot is more meaningful.\n",
    "\n",
    "4. **Decision-Making:** Correctly identifying the level of measurement is critical in decision-making. Making decisions based on incorrect data analysis can have significant consequences. For instance, a company might make misguided marketing decisions if it mistakenly treats ordinal customer satisfaction data as interval data.\n",
    "\n",
    "Let's illustrate this with an example:\n",
    "\n",
    "Suppose you are conducting a customer satisfaction survey for a restaurant and have collected data on the type of dessert customers ordered after their meal. The categories are: \"Cake,\" \"Ice Cream,\" \"Fruit Salad,\" and \"No Dessert\" (nominal data).\n",
    "\n",
    "If you mistakenly treat this nominal data as interval or ratio data, you might calculate the mean (average) dessert preference, which doesn't make sense for nominal data. This could lead to misleading results, as the mean for dessert preference doesn't provide any meaningful information, given that there is no natural order or numerical value associated with the categories. Instead, you should use frequency counts or percentages to summarize and analyze the nominal data appropriately.\n",
    "\n",
    "Understanding the level of measurement ensures that the right statistical tools and techniques are applied, leading to valid and meaningful results in data analysis and decision-making."
   ]
  },
  {
   "cell_type": "markdown",
   "id": "3c01b831-b757-4158-b556-f4300e8c8879",
   "metadata": {},
   "source": [
    "Q7. How nominal data type is different from ordinal data type."
   ]
  },
  {
   "cell_type": "markdown",
   "id": "f4901421-45ed-4a13-b45f-e9f682e92f51",
   "metadata": {},
   "source": [
    "Nominal data and ordinal data are both categorical data types, but they differ in the way their categories or labels are structured and the level of information they convey:\n",
    "\n",
    "**Nominal Data:**\n",
    "- Nominal data, also known as categorical data, consists of categories or labels that represent distinct groups or classes.\n",
    "- The categories have no inherent order, ranking, or hierarchy. They are purely labels for different groups, and no numerical or meaningful order exists among them.\n",
    "- Operations that can be performed on nominal data include counting the frequency of each category and determining the mode (the most frequently occurring category).\n",
    "- Examples of nominal data include:\n",
    "  - Colors (e.g., red, blue, green).\n",
    "  - Types of animals (e.g., cat, dog, bird).\n",
    "  - Marital status (e.g., married, single, divorced).\n",
    "\n",
    "**Ordinal Data:**\n",
    "- Ordinal data is also categorical, but the categories have a meaningful order or ranking.\n",
    "- While ordinal data has categories like nominal data, the categories can be ranked or ordered in some way, indicating a relative hierarchy or preference among them. However, the intervals between the categories may not be uniform or precisely defined.\n",
    "- Operations that can be performed on ordinal data include ordering or ranking the categories and determining the mode. Median and percentiles can also be calculated.\n",
    "- Examples of ordinal data include:\n",
    "  - Educational levels (e.g., high school, bachelor's degree, master's degree).\n",
    "  - Survey responses with Likert scales (e.g., strongly agree, agree, neutral, disagree, strongly disagree).\n",
    "  - Socioeconomic status (e.g., low income, middle income, high income).\n",
    "\n",
    "In summary, the key difference between nominal and ordinal data is that ordinal data has an ordered or ranked structure among its categories, while nominal data lacks this ordering. Ordinal data provides more information than nominal data by indicating a meaningful hierarchy or preference, but it does not provide information about the exact intervals or differences between categories, which is a characteristic of interval or ratio data."
   ]
  },
  {
   "cell_type": "markdown",
   "id": "b175ef1f-5ce4-41d0-899a-567b502803f2",
   "metadata": {},
   "source": [
    "Q8. Which type of plot can be used to display data in terms of range?"
   ]
  },
  {
   "cell_type": "markdown",
   "id": "e30c3f67-5e16-4f82-abaf-3a14d75287c5",
   "metadata": {},
   "source": [
    "A **box plot** (also known as a box-and-whisker plot) is commonly used to display data in terms of range. A box plot provides a graphical representation of the distribution of a dataset, highlighting key summary statistics such as the minimum, first quartile (Q1), median (second quartile, Q2), third quartile (Q3), and maximum. These statistics help you understand the range, spread, and central tendencies of the data.\n",
    "\n",
    "In a box plot:\n",
    "\n",
    "- The box represents the interquartile range (IQR), which is the range between the first quartile (Q1) and the third quartile (Q3). It contains the middle 50% of the data.\n",
    "- A vertical line or \"whisker\" extends from the top of the box to the maximum value within 1.5 times the IQR above Q3 (the upper fence).\n",
    "- Another whisker extends from the bottom of the box to the minimum value within 1.5 times the IQR below Q1 (the lower fence).\n",
    "- Data points outside the whiskers are often plotted as individual points (outliers).\n",
    "\n",
    "Box plots are useful for comparing the spread and central tendency of data between different groups or categories. They are particularly effective in displaying the range of data, identifying potential outliers, and showing the data distribution's skewness or symmetry.\n",
    "\n",
    "Box plots are commonly used in data analysis, statistics, and data visualization, and they can be created easily using various software and data visualization tools, including Python libraries like Matplotlib and Seaborn."
   ]
  },
  {
   "cell_type": "markdown",
   "id": "dcfa2942-993f-4ac3-9612-c76706bdb291",
   "metadata": {},
   "source": [
    "Q9. Describe the difference between descriptive and inferential statistics. Give an example of each\n",
    "type of statistics and explain how they are used."
   ]
  },
  {
   "cell_type": "markdown",
   "id": "5b5c8037-baa3-432b-a028-8c795a120fca",
   "metadata": {},
   "source": [
    "**Descriptive Statistics:**\n",
    "- Descriptive statistics involves the use of methods and techniques to summarize and describe data. Its primary purpose is to provide a clear and concise representation of data, helping to understand its basic features, patterns, and characteristics.\n",
    "- Descriptive statistics do not involve making inferences about a larger population; they are focused on summarizing the data at hand.\n",
    "- Examples of descriptive statistics include measures of central tendency (e.g., mean, median, mode), measures of dispersion (e.g., range, variance, standard deviation), graphical representations (e.g., histograms, bar charts), and frequency tables.\n",
    "- Use: Descriptive statistics are used to organize, simplify, and present data to provide insights into the data's structure and patterns. For example, calculating the average income of a group of people or creating a histogram to visualize the distribution of test scores in a class.\n",
    "\n",
    "**Inferential Statistics:**\n",
    "- Inferential statistics involves making inferences or predictions about a larger population based on a sample of data. Its primary purpose is to draw conclusions, test hypotheses, and assess the significance of relationships in the data.\n",
    "- Inferential statistics allow researchers to make generalizations and predictions based on sample data, helping to make decisions or answer research questions.\n",
    "- Examples of inferential statistics include hypothesis testing (e.g., t-tests, chi-squared tests), confidence intervals, regression analysis, and analysis of variance (ANOVA).\n",
    "- Use: Inferential statistics are used to test hypotheses, make predictions, and draw generalizations about a population based on data from a sample. For example, testing whether a new drug is effective by comparing outcomes in a group that received the drug to those who received a placebo.\n",
    "\n",
    "Example:\n",
    "Suppose you are conducting a clinical trial to test the effectiveness of a new drug for lowering blood pressure.\n",
    "\n",
    "- Descriptive Statistics: You collect data on the blood pressure levels of 100 patients in your trial and calculate the mean, median, and standard deviation of their blood pressure readings. These descriptive statistics help you summarize and understand the characteristics of the sample data.\n",
    "- Inferential Statistics: You use inferential statistics to test a hypothesis. Your hypothesis is that the new drug lowers blood pressure compared to a placebo. You perform a t-test to determine if the mean blood pressure in the drug group is significantly different from the mean blood pressure in the placebo group. This helps you make an inference about the effectiveness of the drug for the larger population.\n",
    "\n",
    "In this example, descriptive statistics provide a summary of the sample data, while inferential statistics help you draw conclusions about the entire population of patients based on the sample data."
   ]
  },
  {
   "cell_type": "markdown",
   "id": "e93989b1-1a22-499e-810c-9f2db29dcf2f",
   "metadata": {},
   "source": [
    "Q10. What are some common measures of central tendency and variability used in statistics? Explain\n",
    "how each measure can be used to describe a dataset."
   ]
  },
  {
   "cell_type": "markdown",
   "id": "cac5d467-1fb3-4d14-b789-d1eb4f371fea",
   "metadata": {},
   "source": [
    "**Measures of Central Tendency:**\n",
    "Measures of central tendency describe the center or typical value of a dataset. They provide a single value that summarizes the data's central location. Common measures of central tendency include:\n",
    "\n",
    "1. **Mean (Average):**\n",
    "   - The mean is calculated by summing all data values and dividing by the number of data points.\n",
    "   - It represents the balancing point of the data.\n",
    "   - The mean can be influenced by extreme values (outliers).\n",
    "   - Use: The mean is useful for describing datasets where values are roughly symmetrically distributed. For example, it can be used to describe the average income of a group.\n",
    "\n",
    "2. **Median:**\n",
    "   - The median is the middle value when data is sorted in ascending or descending order. If there's an even number of data points, it's the average of the two middle values.\n",
    "   - It's less sensitive to outliers than the mean.\n",
    "   - Use: The median is effective for describing datasets with outliers or skewed distributions. For example, it can be used to describe the median household income.\n",
    "\n",
    "3. **Mode:**\n",
    "   - The mode is the most frequently occurring value in the dataset.\n",
    "   - A dataset can have no mode (if all values are unique) or multiple modes (bimodal, trimodal, etc.).\n",
    "   - Use: The mode is helpful for describing the most common category or value in categorical data. For example, it can describe the mode of transportation people use to commute to work.\n",
    "\n",
    "**Measures of Variability:**\n",
    "Measures of variability describe the spread or dispersion of data points in a dataset. They provide information about how data points are distributed around the central value. Common measures of variability include:\n",
    "\n",
    "1. **Range:**\n",
    "   - The range is the difference between the maximum and minimum values in the dataset.\n",
    "   - It provides a simple measure of the spread.\n",
    "   - Use: The range is a basic measure of spread, but it's sensitive to outliers and doesn't consider the distribution between the extremes.\n",
    "\n",
    "2. **Variance:**\n",
    "   - Variance quantifies how data points deviate from the mean by calculating the average of the squared differences between each data point and the mean.\n",
    "   - It measures the average squared distance from the mean.\n",
    "   - Use: Variance provides a more comprehensive measure of spread, but its units are squared, so the square root of the variance (standard deviation) is often used for interpretation.\n",
    "\n",
    "3. **Standard Deviation:**\n",
    "   - The standard deviation is the square root of the variance. It represents the typical distance of data points from the mean.\n",
    "   - It has the same units as the original data, making it easier to interpret.\n",
    "   - Use: The standard deviation is a widely used measure of spread that helps quantify the variation in the data. It's particularly useful for normal distributions.\n",
    "\n",
    "4. **Interquartile Range (IQR):**\n",
    "   - The IQR is the range of the middle 50% of the data, calculated as the difference between the third quartile (Q3) and the first quartile (Q1).\n",
    "   - It is less sensitive to outliers than the range.\n",
    "   - Use: The IQR is effective for describing the spread of data while minimizing the impact of outliers. It's often used in box plots.\n",
    "\n",
    "These measures of central tendency and variability provide valuable insights into the characteristics of datasets, helping to summarize and understand data distributions, identify outliers, and make data-driven decisions. The choice of which measure to use depends on the nature of the data and the goals of the analysis."
   ]
  },
  {
   "cell_type": "code",
   "execution_count": null,
   "id": "c89b60e4-dee4-44d0-aedd-829215f474a6",
   "metadata": {},
   "outputs": [],
   "source": []
  }
 ],
 "metadata": {
  "kernelspec": {
   "display_name": "Python 3 (ipykernel)",
   "language": "python",
   "name": "python3"
  },
  "language_info": {
   "codemirror_mode": {
    "name": "ipython",
    "version": 3
   },
   "file_extension": ".py",
   "mimetype": "text/x-python",
   "name": "python",
   "nbconvert_exporter": "python",
   "pygments_lexer": "ipython3",
   "version": "3.10.8"
  }
 },
 "nbformat": 4,
 "nbformat_minor": 5
}
