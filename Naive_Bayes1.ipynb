{
 "cells": [
  {
   "cell_type": "markdown",
   "id": "d31a503c-6f14-4125-b099-87dc846d3426",
   "metadata": {},
   "source": [
    "Q1. What is Bayes' theorem?"
   ]
  },
  {
   "cell_type": "markdown",
   "id": "1b9de147-e9a7-469f-8194-747ed51302e0",
   "metadata": {},
   "source": [
    "\n",
    "Bayes' theorem is a mathematical formula used to determine the conditional probability of an event based on prior knowledge of conditions related to the event. It describes the probability of an event, based on prior knowledge of conditions that might be related to the event."
   ]
  },
  {
   "cell_type": "markdown",
   "id": "52f25c0f-32a1-4632-8478-89e078f16538",
   "metadata": {},
   "source": [
    "Q2. What is the formula for Bayes' theorem?"
   ]
  },
  {
   "cell_type": "markdown",
   "id": "c2a64b66-19d7-4557-a13b-398cf1128858",
   "metadata": {},
   "source": [
    "P(A|B)=P(B|A).P(A)/P(B)\n",
    "\n",
    "\n",
    "where\n",
    "  P(A|B)is the posterior probability of event A given that B is true.\n",
    "  P(B|A)is the likelihood of event B given that A is true.\n",
    "  P(A)is the prior probability of event A\n",
    "  P(B)is the total probability of event B."
   ]
  },
  {
   "cell_type": "markdown",
   "id": "f19beb55-1d87-4d49-86dd-4b9b70058b1d",
   "metadata": {},
   "source": [
    "Q3. How is Bayes' theorem used in practice?"
   ]
  },
  {
   "cell_type": "markdown",
   "id": "7c8fc5c7-44e9-4911-8083-f259f3a4fdc1",
   "metadata": {},
   "source": [
    "Bayes' theorem is used in various fields for decision-making and inferencing under uncertainty. Some practical applications include:\n",
    "\n",
    "Medical diagnosis: To update the probability of a disease given a test result.\n",
    "Spam filtering: To classify emails as spam or not spam.\n",
    "Predictive text: To predict the next word in a sequence.\n",
    "Machine learning: As the foundation of the Naive Bayes classifier."
   ]
  },
  {
   "cell_type": "markdown",
   "id": "b87fd28f-cc1e-4c87-9a68-46b716869d09",
   "metadata": {},
   "source": [
    "Q4. What is the relationship between Bayes' theorem and conditional probability?"
   ]
  },
  {
   "cell_type": "markdown",
   "id": "24ffe078-61c0-4620-94c4-9ae98cca0e7d",
   "metadata": {},
   "source": [
    "Bayes' theorem is a way of finding a conditional probability when the reverse conditional probability is known. Conditional probability is the probability of an event occurring given that another event has occurred. Bayes' theorem provides a method to update the probability of an event based on new evidence or information."
   ]
  },
  {
   "cell_type": "markdown",
   "id": "ead28ee7-7aca-45ac-8bcd-10928405fa49",
   "metadata": {},
   "source": [
    "Q5. How do you choose which type of Naive Bayes classifier to use for any given problem?"
   ]
  },
  {
   "cell_type": "markdown",
   "id": "317a6435-74a9-4eae-a786-05a3ce257988",
   "metadata": {},
   "source": [
    "The choice of Naive Bayes classifier depends on the nature of the features in the dataset:\n",
    "\n",
    "Gaussian Naive Bayes: Used when the features are continuous and are assumed to follow a normal distribution.\n",
    "Multinomial Naive Bayes: Used when the features are discrete and represent counts or frequencies, common in text classification.\n",
    "Bernoulli Naive Bayes: Used when the features are binary (0 or 1) indicating the presence or absence of a feature."
   ]
  },
  {
   "cell_type": "markdown",
   "id": "e4a8a01c-fb9a-4fb8-84de-b2754dc2ed28",
   "metadata": {},
   "source": [
    "Assuming equal prior probabilities for each class, which class would Naive Bayes predict the new instance\n",
    "to belong to?"
   ]
  },
  {
   "cell_type": "markdown",
   "id": "1a6d3dbb-a457-44e9-854f-c74adfece73f",
   "metadata": {},
   "source": []
  }
 ],
 "metadata": {
  "kernelspec": {
   "display_name": "Python 3 (ipykernel)",
   "language": "python",
   "name": "python3"
  },
  "language_info": {
   "codemirror_mode": {
    "name": "ipython",
    "version": 3
   },
   "file_extension": ".py",
   "mimetype": "text/x-python",
   "name": "python",
   "nbconvert_exporter": "python",
   "pygments_lexer": "ipython3",
   "version": "3.10.8"
  }
 },
 "nbformat": 4,
 "nbformat_minor": 5
}
